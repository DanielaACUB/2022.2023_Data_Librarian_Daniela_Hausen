{
 "cells": [
  {
   "cell_type": "code",
   "execution_count": 1,
   "id": "705621cf",
   "metadata": {},
   "outputs": [],
   "source": [
    "import urllib.request\n",
    "import pandas as pd"
   ]
  },
  {
   "cell_type": "code",
   "execution_count": 2,
   "id": "2d51eef1",
   "metadata": {},
   "outputs": [
    {
     "data": {
      "text/plain": [
       "('checkout.csv', <http.client.HTTPMessage at 0x7fe46704b370>)"
      ]
     },
     "execution_count": 2,
     "metadata": {},
     "output_type": "execute_result"
    }
   ],
   "source": [
    "url = \"https://data.seattle.gov/resource/tmmm-ytt6.csv?$where=checkoutyear=2018&$limit=10000\"\n",
    "checkout_file = \"checkout.csv\"\n",
    "urllib.request.urlretrieve(url, checkout_file)"
   ]
  },
  {
   "cell_type": "code",
   "execution_count": 3,
   "id": "803eb08d",
   "metadata": {},
   "outputs": [],
   "source": [
    "checkouts_df = pd.read_csv(checkout_file)"
   ]
  },
  {
   "cell_type": "code",
   "execution_count": 4,
   "id": "23511954",
   "metadata": {},
   "outputs": [
    {
     "data": {
      "text/html": [
       "<div>\n",
       "<style scoped>\n",
       "    .dataframe tbody tr th:only-of-type {\n",
       "        vertical-align: middle;\n",
       "    }\n",
       "\n",
       "    .dataframe tbody tr th {\n",
       "        vertical-align: top;\n",
       "    }\n",
       "\n",
       "    .dataframe thead th {\n",
       "        text-align: right;\n",
       "    }\n",
       "</style>\n",
       "<table border=\"1\" class=\"dataframe\">\n",
       "  <thead>\n",
       "    <tr style=\"text-align: right;\">\n",
       "      <th></th>\n",
       "      <th>usageclass</th>\n",
       "      <th>checkouttype</th>\n",
       "      <th>materialtype</th>\n",
       "      <th>checkoutyear</th>\n",
       "      <th>checkoutmonth</th>\n",
       "      <th>checkouts</th>\n",
       "      <th>title</th>\n",
       "      <th>isbn</th>\n",
       "      <th>creator</th>\n",
       "      <th>subjects</th>\n",
       "      <th>publisher</th>\n",
       "      <th>publicationyear</th>\n",
       "    </tr>\n",
       "  </thead>\n",
       "  <tbody>\n",
       "    <tr>\n",
       "      <th>0</th>\n",
       "      <td>Digital</td>\n",
       "      <td>OverDrive</td>\n",
       "      <td>EBOOK</td>\n",
       "      <td>2018</td>\n",
       "      <td>1</td>\n",
       "      <td>22</td>\n",
       "      <td>Enemy of the State</td>\n",
       "      <td>NaN</td>\n",
       "      <td>Vince Flynn</td>\n",
       "      <td>Fiction, Literature, Thriller</td>\n",
       "      <td>Simon &amp; Schuster, Inc.</td>\n",
       "      <td>2017</td>\n",
       "    </tr>\n",
       "    <tr>\n",
       "      <th>1</th>\n",
       "      <td>Digital</td>\n",
       "      <td>Hoopla</td>\n",
       "      <td>TELEVISION</td>\n",
       "      <td>2018</td>\n",
       "      <td>1</td>\n",
       "      <td>1</td>\n",
       "      <td>Newspaper Mom / Cucumber in Rio / Donut Raffle</td>\n",
       "      <td>NaN</td>\n",
       "      <td>NaN</td>\n",
       "      <td>Children's</td>\n",
       "      <td>DHX Media</td>\n",
       "      <td>NaN</td>\n",
       "    </tr>\n",
       "    <tr>\n",
       "      <th>2</th>\n",
       "      <td>Physical</td>\n",
       "      <td>Horizon</td>\n",
       "      <td>SOUNDDISC</td>\n",
       "      <td>2018</td>\n",
       "      <td>1</td>\n",
       "      <td>1</td>\n",
       "      <td>Mono / the Mavericks.</td>\n",
       "      <td>NaN</td>\n",
       "      <td>Mavericks (Musical group)</td>\n",
       "      <td>Country music 2011 2020</td>\n",
       "      <td>Valory,</td>\n",
       "      <td>[2015]</td>\n",
       "    </tr>\n",
       "    <tr>\n",
       "      <th>3</th>\n",
       "      <td>Digital</td>\n",
       "      <td>OverDrive</td>\n",
       "      <td>EBOOK</td>\n",
       "      <td>2018</td>\n",
       "      <td>1</td>\n",
       "      <td>2</td>\n",
       "      <td>Anna Karenina</td>\n",
       "      <td>NaN</td>\n",
       "      <td>Leo Tolstoy</td>\n",
       "      <td>Classic Literature, Fiction, Literature</td>\n",
       "      <td>Penguin Group (USA), Inc.</td>\n",
       "      <td>2009</td>\n",
       "    </tr>\n",
       "    <tr>\n",
       "      <th>4</th>\n",
       "      <td>Digital</td>\n",
       "      <td>OverDrive</td>\n",
       "      <td>EBOOK</td>\n",
       "      <td>2018</td>\n",
       "      <td>1</td>\n",
       "      <td>1</td>\n",
       "      <td>Dragon: Vlad Series, Book 8</td>\n",
       "      <td>NaN</td>\n",
       "      <td>Steven Brust</td>\n",
       "      <td>Fantasy, Fiction</td>\n",
       "      <td>Macmillan Publishers</td>\n",
       "      <td>2015</td>\n",
       "    </tr>\n",
       "    <tr>\n",
       "      <th>...</th>\n",
       "      <td>...</td>\n",
       "      <td>...</td>\n",
       "      <td>...</td>\n",
       "      <td>...</td>\n",
       "      <td>...</td>\n",
       "      <td>...</td>\n",
       "      <td>...</td>\n",
       "      <td>...</td>\n",
       "      <td>...</td>\n",
       "      <td>...</td>\n",
       "      <td>...</td>\n",
       "      <td>...</td>\n",
       "    </tr>\n",
       "    <tr>\n",
       "      <th>9995</th>\n",
       "      <td>Digital</td>\n",
       "      <td>OverDrive</td>\n",
       "      <td>EBOOK</td>\n",
       "      <td>2018</td>\n",
       "      <td>1</td>\n",
       "      <td>1</td>\n",
       "      <td>Immortal: Fallen Angels Series, Book 6</td>\n",
       "      <td>NaN</td>\n",
       "      <td>J.R. Ward</td>\n",
       "      <td>Fantasy, Fiction, Romance</td>\n",
       "      <td>Penguin Group (USA), Inc.</td>\n",
       "      <td>2014</td>\n",
       "    </tr>\n",
       "    <tr>\n",
       "      <th>9996</th>\n",
       "      <td>Digital</td>\n",
       "      <td>OverDrive</td>\n",
       "      <td>EBOOK</td>\n",
       "      <td>2018</td>\n",
       "      <td>1</td>\n",
       "      <td>1</td>\n",
       "      <td>The Price of Silence</td>\n",
       "      <td>NaN</td>\n",
       "      <td>Kate Wilhelm</td>\n",
       "      <td>Fiction, Suspense, Thriller</td>\n",
       "      <td>Harlequin Enterprises, Ltd.</td>\n",
       "      <td>2011</td>\n",
       "    </tr>\n",
       "    <tr>\n",
       "      <th>9997</th>\n",
       "      <td>Digital</td>\n",
       "      <td>Freegal</td>\n",
       "      <td>SONG</td>\n",
       "      <td>2018</td>\n",
       "      <td>1</td>\n",
       "      <td>1</td>\n",
       "      <td>Desert Hideaway</td>\n",
       "      <td>NaN</td>\n",
       "      <td>NaN</td>\n",
       "      <td>NaN</td>\n",
       "      <td>NaN</td>\n",
       "      <td>NaN</td>\n",
       "    </tr>\n",
       "    <tr>\n",
       "      <th>9998</th>\n",
       "      <td>Physical</td>\n",
       "      <td>Horizon</td>\n",
       "      <td>BOOK</td>\n",
       "      <td>2018</td>\n",
       "      <td>1</td>\n",
       "      <td>3</td>\n",
       "      <td>Waistcoats &amp; weaponry / Gail Carriger.</td>\n",
       "      <td>NaN</td>\n",
       "      <td>Carriger, Gail</td>\n",
       "      <td>Boarding schools Fiction, Schools Fiction, Eti...</td>\n",
       "      <td>Little, Brown and Company,</td>\n",
       "      <td>2014.</td>\n",
       "    </tr>\n",
       "    <tr>\n",
       "      <th>9999</th>\n",
       "      <td>Physical</td>\n",
       "      <td>Horizon</td>\n",
       "      <td>SOUNDDISC</td>\n",
       "      <td>2018</td>\n",
       "      <td>1</td>\n",
       "      <td>1</td>\n",
       "      <td>Red moon rising : [Sputnik and the hidden riva...</td>\n",
       "      <td>NaN</td>\n",
       "      <td>Brzezinski, Matthew, 1965-</td>\n",
       "      <td>Space race United States History 20th century,...</td>\n",
       "      <td>HighBridge,</td>\n",
       "      <td>[2007]</td>\n",
       "    </tr>\n",
       "  </tbody>\n",
       "</table>\n",
       "<p>10000 rows × 12 columns</p>\n",
       "</div>"
      ],
      "text/plain": [
       "     usageclass checkouttype materialtype  checkoutyear  checkoutmonth  \\\n",
       "0       Digital    OverDrive        EBOOK          2018              1   \n",
       "1       Digital       Hoopla   TELEVISION          2018              1   \n",
       "2      Physical      Horizon    SOUNDDISC          2018              1   \n",
       "3       Digital    OverDrive        EBOOK          2018              1   \n",
       "4       Digital    OverDrive        EBOOK          2018              1   \n",
       "...         ...          ...          ...           ...            ...   \n",
       "9995    Digital    OverDrive        EBOOK          2018              1   \n",
       "9996    Digital    OverDrive        EBOOK          2018              1   \n",
       "9997    Digital      Freegal         SONG          2018              1   \n",
       "9998   Physical      Horizon         BOOK          2018              1   \n",
       "9999   Physical      Horizon    SOUNDDISC          2018              1   \n",
       "\n",
       "      checkouts                                              title  isbn  \\\n",
       "0            22                                 Enemy of the State   NaN   \n",
       "1             1     Newspaper Mom / Cucumber in Rio / Donut Raffle   NaN   \n",
       "2             1                              Mono / the Mavericks.   NaN   \n",
       "3             2                                      Anna Karenina   NaN   \n",
       "4             1                        Dragon: Vlad Series, Book 8   NaN   \n",
       "...         ...                                                ...   ...   \n",
       "9995          1             Immortal: Fallen Angels Series, Book 6   NaN   \n",
       "9996          1                               The Price of Silence   NaN   \n",
       "9997          1                                    Desert Hideaway   NaN   \n",
       "9998          3             Waistcoats & weaponry / Gail Carriger.   NaN   \n",
       "9999          1  Red moon rising : [Sputnik and the hidden riva...   NaN   \n",
       "\n",
       "                         creator  \\\n",
       "0                    Vince Flynn   \n",
       "1                            NaN   \n",
       "2      Mavericks (Musical group)   \n",
       "3                    Leo Tolstoy   \n",
       "4                   Steven Brust   \n",
       "...                          ...   \n",
       "9995                   J.R. Ward   \n",
       "9996                Kate Wilhelm   \n",
       "9997                         NaN   \n",
       "9998              Carriger, Gail   \n",
       "9999  Brzezinski, Matthew, 1965-   \n",
       "\n",
       "                                               subjects  \\\n",
       "0                         Fiction, Literature, Thriller   \n",
       "1                                            Children's   \n",
       "2                               Country music 2011 2020   \n",
       "3               Classic Literature, Fiction, Literature   \n",
       "4                                      Fantasy, Fiction   \n",
       "...                                                 ...   \n",
       "9995                          Fantasy, Fiction, Romance   \n",
       "9996                        Fiction, Suspense, Thriller   \n",
       "9997                                                NaN   \n",
       "9998  Boarding schools Fiction, Schools Fiction, Eti...   \n",
       "9999  Space race United States History 20th century,...   \n",
       "\n",
       "                        publisher publicationyear  \n",
       "0          Simon & Schuster, Inc.            2017  \n",
       "1                       DHX Media             NaN  \n",
       "2                         Valory,          [2015]  \n",
       "3       Penguin Group (USA), Inc.            2009  \n",
       "4            Macmillan Publishers            2015  \n",
       "...                           ...             ...  \n",
       "9995    Penguin Group (USA), Inc.            2014  \n",
       "9996  Harlequin Enterprises, Ltd.            2011  \n",
       "9997                          NaN             NaN  \n",
       "9998   Little, Brown and Company,           2014.  \n",
       "9999                  HighBridge,          [2007]  \n",
       "\n",
       "[10000 rows x 12 columns]"
      ]
     },
     "execution_count": 4,
     "metadata": {},
     "output_type": "execute_result"
    }
   ],
   "source": [
    "checkouts_df"
   ]
  },
  {
   "cell_type": "code",
   "execution_count": 5,
   "id": "76d2ca48",
   "metadata": {},
   "outputs": [
    {
     "data": {
      "text/plain": [
       "(10000, 12)"
      ]
     },
     "execution_count": 5,
     "metadata": {},
     "output_type": "execute_result"
    }
   ],
   "source": [
    "checkouts_df.shape"
   ]
  },
  {
   "cell_type": "code",
   "execution_count": 6,
   "id": "8beae8c5",
   "metadata": {},
   "outputs": [
    {
     "data": {
      "text/plain": [
       "array([ 1,  2,  3,  4,  5,  8,  9, 10, 11, 12])"
      ]
     },
     "execution_count": 6,
     "metadata": {},
     "output_type": "execute_result"
    }
   ],
   "source": [
    "checkouts_df[\"checkoutmonth\"].unique()"
   ]
  },
  {
   "cell_type": "code",
   "execution_count": 7,
   "id": "4ec7528e",
   "metadata": {},
   "outputs": [
    {
     "data": {
      "text/plain": [
       "540"
      ]
     },
     "execution_count": 7,
     "metadata": {},
     "output_type": "execute_result"
    }
   ],
   "source": [
    "checkouts_df[\"checkouts\"].max()"
   ]
  },
  {
   "cell_type": "code",
   "execution_count": 8,
   "id": "2622ff4b",
   "metadata": {},
   "outputs": [
    {
     "data": {
      "text/plain": [
       "1"
      ]
     },
     "execution_count": 8,
     "metadata": {},
     "output_type": "execute_result"
    }
   ],
   "source": [
    "checkouts_df[\"checkouts\"].min()"
   ]
  },
  {
   "cell_type": "code",
   "execution_count": 9,
   "id": "84704b51",
   "metadata": {},
   "outputs": [
    {
     "data": {
      "text/plain": [
       "1.0"
      ]
     },
     "execution_count": 9,
     "metadata": {},
     "output_type": "execute_result"
    }
   ],
   "source": [
    "checkouts_df[\"checkouts\"].median()"
   ]
  },
  {
   "cell_type": "code",
   "execution_count": 10,
   "id": "61760a42",
   "metadata": {},
   "outputs": [
    {
     "data": {
      "text/plain": [
       "3.3392"
      ]
     },
     "execution_count": 10,
     "metadata": {},
     "output_type": "execute_result"
    }
   ],
   "source": [
    "checkouts_df[\"checkouts\"].mean()"
   ]
  },
  {
   "cell_type": "code",
   "execution_count": 11,
   "id": "4004eb9c",
   "metadata": {},
   "outputs": [
    {
     "data": {
      "text/plain": [
       "array(['Digital', 'Physical'], dtype=object)"
      ]
     },
     "execution_count": 11,
     "metadata": {},
     "output_type": "execute_result"
    }
   ],
   "source": [
    "checkouts_df[\"usageclass\"].unique()"
   ]
  },
  {
   "cell_type": "code",
   "execution_count": 12,
   "id": "b38d1230",
   "metadata": {},
   "outputs": [
    {
     "data": {
      "text/plain": [
       "array(['EBOOK', 'TELEVISION', 'SOUNDDISC', 'BOOK', 'AUDIOBOOK', 'COMIC',\n",
       "       'MOVIE', 'SONG', 'MUSIC', 'MAGAZINE', 'VIDEODISC', 'SOUNDREC',\n",
       "       'SOUNDDISC, VIDEODISC', 'CR', 'LARGEPRINT', 'ER, SOUNDDISC',\n",
       "       'ATLAS', 'ER', 'MAP', 'VIDEOCASS, VIDEODISC', 'REGPRINT', 'VIDEO',\n",
       "       'SOUNDCASS', 'ER, VIDEODISC'], dtype=object)"
      ]
     },
     "execution_count": 12,
     "metadata": {},
     "output_type": "execute_result"
    }
   ],
   "source": [
    "checkouts_df[\"materialtype\"].unique()"
   ]
  },
  {
   "cell_type": "code",
   "execution_count": 13,
   "id": "a104ba49",
   "metadata": {},
   "outputs": [
    {
     "data": {
      "text/html": [
       "<div>\n",
       "<style scoped>\n",
       "    .dataframe tbody tr th:only-of-type {\n",
       "        vertical-align: middle;\n",
       "    }\n",
       "\n",
       "    .dataframe tbody tr th {\n",
       "        vertical-align: top;\n",
       "    }\n",
       "\n",
       "    .dataframe thead th {\n",
       "        text-align: right;\n",
       "    }\n",
       "</style>\n",
       "<table border=\"1\" class=\"dataframe\">\n",
       "  <thead>\n",
       "    <tr style=\"text-align: right;\">\n",
       "      <th></th>\n",
       "      <th>usageclass</th>\n",
       "      <th>checkouttype</th>\n",
       "      <th>materialtype</th>\n",
       "      <th>checkoutyear</th>\n",
       "      <th>checkoutmonth</th>\n",
       "      <th>checkouts</th>\n",
       "      <th>title</th>\n",
       "      <th>isbn</th>\n",
       "      <th>creator</th>\n",
       "      <th>subjects</th>\n",
       "      <th>publisher</th>\n",
       "      <th>publicationyear</th>\n",
       "    </tr>\n",
       "  </thead>\n",
       "  <tbody>\n",
       "    <tr>\n",
       "      <th>13</th>\n",
       "      <td>Digital</td>\n",
       "      <td>Hoopla</td>\n",
       "      <td>COMIC</td>\n",
       "      <td>2018</td>\n",
       "      <td>2</td>\n",
       "      <td>1</td>\n",
       "      <td>Cable &amp; Deadpool: Deadpool Vs. The Marvel Univ...</td>\n",
       "      <td>NaN</td>\n",
       "      <td>NaN</td>\n",
       "      <td>Superhero, Teen</td>\n",
       "      <td>Marvel Entertainment</td>\n",
       "      <td>NaN</td>\n",
       "    </tr>\n",
       "    <tr>\n",
       "      <th>18</th>\n",
       "      <td>Digital</td>\n",
       "      <td>Hoopla</td>\n",
       "      <td>COMIC</td>\n",
       "      <td>2018</td>\n",
       "      <td>2</td>\n",
       "      <td>2</td>\n",
       "      <td>Anarky: The Complete Collection</td>\n",
       "      <td>NaN</td>\n",
       "      <td>NaN</td>\n",
       "      <td>Action &amp; Adventure, Crime, Superhero, Teen</td>\n",
       "      <td>DC Comics</td>\n",
       "      <td>NaN</td>\n",
       "    </tr>\n",
       "    <tr>\n",
       "      <th>19</th>\n",
       "      <td>Digital</td>\n",
       "      <td>Hoopla</td>\n",
       "      <td>COMIC</td>\n",
       "      <td>2018</td>\n",
       "      <td>3</td>\n",
       "      <td>1</td>\n",
       "      <td>Batman: The Long Halloween</td>\n",
       "      <td>NaN</td>\n",
       "      <td>NaN</td>\n",
       "      <td>Media Tie-In, Superhero</td>\n",
       "      <td>DC Comics</td>\n",
       "      <td>NaN</td>\n",
       "    </tr>\n",
       "    <tr>\n",
       "      <th>36</th>\n",
       "      <td>Digital</td>\n",
       "      <td>Hoopla</td>\n",
       "      <td>COMIC</td>\n",
       "      <td>2018</td>\n",
       "      <td>3</td>\n",
       "      <td>1</td>\n",
       "      <td>Winnebago Graveyard</td>\n",
       "      <td>NaN</td>\n",
       "      <td>NaN</td>\n",
       "      <td>Fiction, Horror</td>\n",
       "      <td>Image Comics</td>\n",
       "      <td>NaN</td>\n",
       "    </tr>\n",
       "    <tr>\n",
       "      <th>38</th>\n",
       "      <td>Digital</td>\n",
       "      <td>Hoopla</td>\n",
       "      <td>COMIC</td>\n",
       "      <td>2018</td>\n",
       "      <td>4</td>\n",
       "      <td>1</td>\n",
       "      <td>Powerpuff Girls</td>\n",
       "      <td>NaN</td>\n",
       "      <td>NaN</td>\n",
       "      <td>Action &amp; Adventure, Children's, Media Tie-In, ...</td>\n",
       "      <td>IDW Publishing</td>\n",
       "      <td>NaN</td>\n",
       "    </tr>\n",
       "    <tr>\n",
       "      <th>...</th>\n",
       "      <td>...</td>\n",
       "      <td>...</td>\n",
       "      <td>...</td>\n",
       "      <td>...</td>\n",
       "      <td>...</td>\n",
       "      <td>...</td>\n",
       "      <td>...</td>\n",
       "      <td>...</td>\n",
       "      <td>...</td>\n",
       "      <td>...</td>\n",
       "      <td>...</td>\n",
       "      <td>...</td>\n",
       "    </tr>\n",
       "    <tr>\n",
       "      <th>7964</th>\n",
       "      <td>Digital</td>\n",
       "      <td>Hoopla</td>\n",
       "      <td>COMIC</td>\n",
       "      <td>2018</td>\n",
       "      <td>1</td>\n",
       "      <td>1</td>\n",
       "      <td>Earth 2 Vol. 6: Collision</td>\n",
       "      <td>NaN</td>\n",
       "      <td>NaN</td>\n",
       "      <td>Action &amp; Adventure, Media Tie-In, Superhero, Teen</td>\n",
       "      <td>DC Comics</td>\n",
       "      <td>NaN</td>\n",
       "    </tr>\n",
       "    <tr>\n",
       "      <th>8036</th>\n",
       "      <td>Digital</td>\n",
       "      <td>Hoopla</td>\n",
       "      <td>COMIC</td>\n",
       "      <td>2018</td>\n",
       "      <td>1</td>\n",
       "      <td>1</td>\n",
       "      <td>Jonesy Vol. 2</td>\n",
       "      <td>NaN</td>\n",
       "      <td>NaN</td>\n",
       "      <td>Humorous, Romance, Teen</td>\n",
       "      <td>BOOM! Studios</td>\n",
       "      <td>NaN</td>\n",
       "    </tr>\n",
       "    <tr>\n",
       "      <th>8857</th>\n",
       "      <td>Digital</td>\n",
       "      <td>Hoopla</td>\n",
       "      <td>COMIC</td>\n",
       "      <td>2018</td>\n",
       "      <td>1</td>\n",
       "      <td>1</td>\n",
       "      <td>Bone Vol. 6: Old Man's Cave</td>\n",
       "      <td>NaN</td>\n",
       "      <td>NaN</td>\n",
       "      <td>Action &amp; Adventure, Fantasy</td>\n",
       "      <td>Cartoon Books</td>\n",
       "      <td>NaN</td>\n",
       "    </tr>\n",
       "    <tr>\n",
       "      <th>8983</th>\n",
       "      <td>Digital</td>\n",
       "      <td>Hoopla</td>\n",
       "      <td>COMIC</td>\n",
       "      <td>2018</td>\n",
       "      <td>1</td>\n",
       "      <td>1</td>\n",
       "      <td>Samurai Executioner Volume 9: Facing LIfe and ...</td>\n",
       "      <td>NaN</td>\n",
       "      <td>NaN</td>\n",
       "      <td>Manga, Martial Arts</td>\n",
       "      <td>Dark Horse Comics</td>\n",
       "      <td>NaN</td>\n",
       "    </tr>\n",
       "    <tr>\n",
       "      <th>9972</th>\n",
       "      <td>Digital</td>\n",
       "      <td>Hoopla</td>\n",
       "      <td>COMIC</td>\n",
       "      <td>2018</td>\n",
       "      <td>1</td>\n",
       "      <td>1</td>\n",
       "      <td>Low Vol. 4: Outer Aspects Of Inner Attitudes</td>\n",
       "      <td>NaN</td>\n",
       "      <td>NaN</td>\n",
       "      <td>Fantasy, Sci-Fi</td>\n",
       "      <td>Image Comics</td>\n",
       "      <td>NaN</td>\n",
       "    </tr>\n",
       "  </tbody>\n",
       "</table>\n",
       "<p>62 rows × 12 columns</p>\n",
       "</div>"
      ],
      "text/plain": [
       "     usageclass checkouttype materialtype  checkoutyear  checkoutmonth  \\\n",
       "13      Digital       Hoopla        COMIC          2018              2   \n",
       "18      Digital       Hoopla        COMIC          2018              2   \n",
       "19      Digital       Hoopla        COMIC          2018              3   \n",
       "36      Digital       Hoopla        COMIC          2018              3   \n",
       "38      Digital       Hoopla        COMIC          2018              4   \n",
       "...         ...          ...          ...           ...            ...   \n",
       "7964    Digital       Hoopla        COMIC          2018              1   \n",
       "8036    Digital       Hoopla        COMIC          2018              1   \n",
       "8857    Digital       Hoopla        COMIC          2018              1   \n",
       "8983    Digital       Hoopla        COMIC          2018              1   \n",
       "9972    Digital       Hoopla        COMIC          2018              1   \n",
       "\n",
       "      checkouts                                              title  isbn  \\\n",
       "13            1  Cable & Deadpool: Deadpool Vs. The Marvel Univ...   NaN   \n",
       "18            2                    Anarky: The Complete Collection   NaN   \n",
       "19            1                         Batman: The Long Halloween   NaN   \n",
       "36            1                                Winnebago Graveyard   NaN   \n",
       "38            1                                    Powerpuff Girls   NaN   \n",
       "...         ...                                                ...   ...   \n",
       "7964          1                          Earth 2 Vol. 6: Collision   NaN   \n",
       "8036          1                                      Jonesy Vol. 2   NaN   \n",
       "8857          1                        Bone Vol. 6: Old Man's Cave   NaN   \n",
       "8983          1  Samurai Executioner Volume 9: Facing LIfe and ...   NaN   \n",
       "9972          1       Low Vol. 4: Outer Aspects Of Inner Attitudes   NaN   \n",
       "\n",
       "     creator                                           subjects  \\\n",
       "13       NaN                                    Superhero, Teen   \n",
       "18       NaN         Action & Adventure, Crime, Superhero, Teen   \n",
       "19       NaN                            Media Tie-In, Superhero   \n",
       "36       NaN                                    Fiction, Horror   \n",
       "38       NaN  Action & Adventure, Children's, Media Tie-In, ...   \n",
       "...      ...                                                ...   \n",
       "7964     NaN  Action & Adventure, Media Tie-In, Superhero, Teen   \n",
       "8036     NaN                            Humorous, Romance, Teen   \n",
       "8857     NaN                        Action & Adventure, Fantasy   \n",
       "8983     NaN                                Manga, Martial Arts   \n",
       "9972     NaN                                    Fantasy, Sci-Fi   \n",
       "\n",
       "                 publisher publicationyear  \n",
       "13    Marvel Entertainment             NaN  \n",
       "18               DC Comics             NaN  \n",
       "19               DC Comics             NaN  \n",
       "36            Image Comics             NaN  \n",
       "38          IDW Publishing             NaN  \n",
       "...                    ...             ...  \n",
       "7964             DC Comics             NaN  \n",
       "8036         BOOM! Studios             NaN  \n",
       "8857         Cartoon Books             NaN  \n",
       "8983     Dark Horse Comics             NaN  \n",
       "9972          Image Comics             NaN  \n",
       "\n",
       "[62 rows x 12 columns]"
      ]
     },
     "execution_count": 13,
     "metadata": {},
     "output_type": "execute_result"
    }
   ],
   "source": [
    "checkouts_df[checkouts_df[\"materialtype\"] == \"COMIC\"]"
   ]
  },
  {
   "cell_type": "code",
   "execution_count": 15,
   "id": "5d697337",
   "metadata": {},
   "outputs": [],
   "source": [
    "checkouts_comic_df = checkouts_df[checkouts_df[\"materialtype\"] == \"COMIC\"]"
   ]
  },
  {
   "cell_type": "code",
   "execution_count": 18,
   "id": "eaaf986a",
   "metadata": {},
   "outputs": [
    {
     "data": {
      "text/plain": [
       "(62, 12)"
      ]
     },
     "execution_count": 18,
     "metadata": {},
     "output_type": "execute_result"
    }
   ],
   "source": [
    "# Wieviele Zeilen & Spalten hat COMIC?\n",
    "checkouts_comic_df.shape"
   ]
  },
  {
   "cell_type": "code",
   "execution_count": 17,
   "id": "14d92177",
   "metadata": {},
   "outputs": [],
   "source": [
    "checkouts_comic_df.to_csv(\"checkout_comic_only.csv\")"
   ]
  },
  {
   "cell_type": "code",
   "execution_count": 19,
   "id": "dc695aee",
   "metadata": {},
   "outputs": [
    {
     "data": {
      "text/plain": [
       "BOOK                    4268\n",
       "EBOOK                   2084\n",
       "AUDIOBOOK                857\n",
       "SOUNDDISC                839\n",
       "VIDEODISC                806\n",
       "SONG                     707\n",
       "MUSIC                    139\n",
       "MOVIE                     94\n",
       "TELEVISION                85\n",
       "COMIC                     62\n",
       "SOUNDDISC, VIDEODISC      10\n",
       "MAGAZINE                  10\n",
       "SOUNDREC                   8\n",
       "REGPRINT                   7\n",
       "VIDEO                      5\n",
       "CR                         4\n",
       "ER, SOUNDDISC              3\n",
       "ER                         3\n",
       "MAP                        3\n",
       "ATLAS                      2\n",
       "LARGEPRINT                 1\n",
       "VIDEOCASS, VIDEODISC       1\n",
       "SOUNDCASS                  1\n",
       "ER, VIDEODISC              1\n",
       "Name: materialtype, dtype: int64"
      ]
     },
     "execution_count": 19,
     "metadata": {},
     "output_type": "execute_result"
    }
   ],
   "source": [
    "# Wieviele sind von den unterschiedlichen Materialtypes vorhanden?\n",
    "checkouts_df[\"materialtype\"].value_counts()"
   ]
  },
  {
   "cell_type": "code",
   "execution_count": 28,
   "id": "2d42d2db",
   "metadata": {},
   "outputs": [],
   "source": [
    "%matplotlib inline"
   ]
  },
  {
   "cell_type": "code",
   "execution_count": 30,
   "id": "d0dc4338",
   "metadata": {},
   "outputs": [
    {
     "data": {
      "text/plain": [
       "13      Marvel Entertainment\n",
       "18                 DC Comics\n",
       "19                 DC Comics\n",
       "36              Image Comics\n",
       "38            IDW Publishing\n",
       "                ...         \n",
       "7964               DC Comics\n",
       "8036           BOOM! Studios\n",
       "8857           Cartoon Books\n",
       "8983       Dark Horse Comics\n",
       "9972            Image Comics\n",
       "Name: publisher, Length: 62, dtype: object"
      ]
     },
     "execution_count": 30,
     "metadata": {},
     "output_type": "execute_result"
    }
   ],
   "source": [
    "# Welche Publisher gibt es bei Comic?\n",
    "checkouts_comic_df.publisher"
   ]
  },
  {
   "cell_type": "code",
   "execution_count": 31,
   "id": "b23b45c5",
   "metadata": {},
   "outputs": [
    {
     "data": {
      "text/plain": [
       "DC Comics                  13\n",
       "Image Comics               11\n",
       "Marvel Entertainment        8\n",
       "BOOM! Studios               5\n",
       "Vertigo                     4\n",
       "Archie                      4\n",
       "Titan Comics                3\n",
       "Dark Horse Comics           3\n",
       "Andrews McMeel              2\n",
       "Cartoon Books               2\n",
       "Trajectory, Inc.            1\n",
       "Fantagraphics Books         1\n",
       "IDW Publishing              1\n",
       "Dynamite Entertainment      1\n",
       "Boom Studios                1\n",
       "Zenescope Entertainment     1\n",
       "Action Lab                  1\n",
       "Name: publisher, dtype: int64"
      ]
     },
     "execution_count": 31,
     "metadata": {},
     "output_type": "execute_result"
    }
   ],
   "source": [
    "#Welcher Publisher hat wieviele COMICs veröffentlicht?\n",
    "checkouts_comic_df[\"publisher\"].value_counts()"
   ]
  },
  {
   "cell_type": "code",
   "execution_count": 32,
   "id": "3f8c774f",
   "metadata": {},
   "outputs": [
    {
     "data": {
      "text/plain": [
       "<AxesSubplot:>"
      ]
     },
     "execution_count": 32,
     "metadata": {},
     "output_type": "execute_result"
    },
    {
     "data": {
      "image/png": "[encoded data removed]",
      "text/plain": [
       "<Figure size 640x480 with 1 Axes>"
      ]
     },
     "metadata": {},
     "output_type": "display_data"
    }
   ],
   "source": [
    "checkouts_comic_df[\"publisher\"].value_counts().plot.bar()"
   ]
  },
  {
   "cell_type": "code",
   "execution_count": 35,
   "id": "83d6cea2",
   "metadata": {},
   "outputs": [
    {
     "data": {
      "text/plain": [
       "array(['Fiction, Literature, Thriller', \"Children's\",\n",
       "       'Country music 2011 2020', ...,\n",
       "       'Chicano movement History, Chicano movement Colorado History, Chicano movement New Mexico History, Civil rights movements United States, Documentary films, Feature films, Nonfiction films',\n",
       "       'Boarding schools Fiction, Schools Fiction, Etiquette Fiction, Werewolves Fiction, Great Britain History Victoria 1837 1901 Fiction, Young adult fiction, Spy stories, Science fiction',\n",
       "       'Space race United States History 20th century, Space race Soviet Union History 20th century, Cold War, Sputnik satellites, United States Politics and government 1953 1961, Soviet Union Politics and government 1953 1985'],\n",
       "      dtype=object)"
      ]
     },
     "execution_count": 35,
     "metadata": {},
     "output_type": "execute_result"
    }
   ],
   "source": [
    "checkouts_df[\"subjects\"].unique()"
   ]
  },
  {
   "cell_type": "code",
   "execution_count": 36,
   "id": "aa4e801c",
   "metadata": {},
   "outputs": [
    {
     "data": {
      "text/html": [
       "<div>\n",
       "<style scoped>\n",
       "    .dataframe tbody tr th:only-of-type {\n",
       "        vertical-align: middle;\n",
       "    }\n",
       "\n",
       "    .dataframe tbody tr th {\n",
       "        vertical-align: top;\n",
       "    }\n",
       "\n",
       "    .dataframe thead th {\n",
       "        text-align: right;\n",
       "    }\n",
       "</style>\n",
       "<table border=\"1\" class=\"dataframe\">\n",
       "  <thead>\n",
       "    <tr style=\"text-align: right;\">\n",
       "      <th></th>\n",
       "      <th>usageclass</th>\n",
       "      <th>checkouttype</th>\n",
       "      <th>materialtype</th>\n",
       "      <th>checkoutyear</th>\n",
       "      <th>checkoutmonth</th>\n",
       "      <th>checkouts</th>\n",
       "      <th>title</th>\n",
       "      <th>isbn</th>\n",
       "      <th>creator</th>\n",
       "      <th>subjects</th>\n",
       "      <th>publisher</th>\n",
       "      <th>publicationyear</th>\n",
       "    </tr>\n",
       "  </thead>\n",
       "  <tbody>\n",
       "  </tbody>\n",
       "</table>\n",
       "</div>"
      ],
      "text/plain": [
       "Empty DataFrame\n",
       "Columns: [usageclass, checkouttype, materialtype, checkoutyear, checkoutmonth, checkouts, title, isbn, creator, subjects, publisher, publicationyear]\n",
       "Index: []"
      ]
     },
     "execution_count": 36,
     "metadata": {},
     "output_type": "execute_result"
    }
   ],
   "source": [
    "# Welche Thriller gibt es?\n",
    "checkouts_df[checkouts_df[\"subjects\"] == \"Thriller\"]"
   ]
  },
  {
   "cell_type": "code",
   "execution_count": 37,
   "id": "118279a8",
   "metadata": {},
   "outputs": [
    {
     "data": {
      "text/html": [
       "<div>\n",
       "<style scoped>\n",
       "    .dataframe tbody tr th:only-of-type {\n",
       "        vertical-align: middle;\n",
       "    }\n",
       "\n",
       "    .dataframe tbody tr th {\n",
       "        vertical-align: top;\n",
       "    }\n",
       "\n",
       "    .dataframe thead th {\n",
       "        text-align: right;\n",
       "    }\n",
       "</style>\n",
       "<table border=\"1\" class=\"dataframe\">\n",
       "  <thead>\n",
       "    <tr style=\"text-align: right;\">\n",
       "      <th></th>\n",
       "      <th>usageclass</th>\n",
       "      <th>checkouttype</th>\n",
       "      <th>materialtype</th>\n",
       "      <th>checkoutyear</th>\n",
       "      <th>checkoutmonth</th>\n",
       "      <th>checkouts</th>\n",
       "      <th>title</th>\n",
       "      <th>isbn</th>\n",
       "      <th>creator</th>\n",
       "      <th>subjects</th>\n",
       "      <th>publisher</th>\n",
       "      <th>publicationyear</th>\n",
       "    </tr>\n",
       "  </thead>\n",
       "  <tbody>\n",
       "    <tr>\n",
       "      <th>172</th>\n",
       "      <td>Digital</td>\n",
       "      <td>OverDrive</td>\n",
       "      <td>EBOOK</td>\n",
       "      <td>2018</td>\n",
       "      <td>1</td>\n",
       "      <td>3</td>\n",
       "      <td>Warrior of the Light</td>\n",
       "      <td>NaN</td>\n",
       "      <td>Paulo Coelho</td>\n",
       "      <td>Fiction</td>\n",
       "      <td>HarperCollins Publishers Inc.</td>\n",
       "      <td>2006</td>\n",
       "    </tr>\n",
       "    <tr>\n",
       "      <th>185</th>\n",
       "      <td>Digital</td>\n",
       "      <td>OverDrive</td>\n",
       "      <td>EBOOK</td>\n",
       "      <td>2018</td>\n",
       "      <td>1</td>\n",
       "      <td>4</td>\n",
       "      <td>Freaky Deaky</td>\n",
       "      <td>NaN</td>\n",
       "      <td>Elmore Leonard</td>\n",
       "      <td>Fiction</td>\n",
       "      <td>HarperCollins Publishers Inc.</td>\n",
       "      <td>2005</td>\n",
       "    </tr>\n",
       "    <tr>\n",
       "      <th>685</th>\n",
       "      <td>Digital</td>\n",
       "      <td>OverDrive</td>\n",
       "      <td>AUDIOBOOK</td>\n",
       "      <td>2018</td>\n",
       "      <td>1</td>\n",
       "      <td>2</td>\n",
       "      <td>The New Moon's Arms (Unabridged)</td>\n",
       "      <td>NaN</td>\n",
       "      <td>Nalo Hopkinson</td>\n",
       "      <td>Fiction</td>\n",
       "      <td>Blackstone Audio, Inc.</td>\n",
       "      <td>2012</td>\n",
       "    </tr>\n",
       "    <tr>\n",
       "      <th>1767</th>\n",
       "      <td>Digital</td>\n",
       "      <td>OverDrive</td>\n",
       "      <td>EBOOK</td>\n",
       "      <td>2018</td>\n",
       "      <td>1</td>\n",
       "      <td>1</td>\n",
       "      <td>Changing Faces</td>\n",
       "      <td>NaN</td>\n",
       "      <td>Kimberla Lawson Roby</td>\n",
       "      <td>Fiction</td>\n",
       "      <td>HarperCollins Publishers Inc.</td>\n",
       "      <td>2010</td>\n",
       "    </tr>\n",
       "    <tr>\n",
       "      <th>3183</th>\n",
       "      <td>Digital</td>\n",
       "      <td>OverDrive</td>\n",
       "      <td>EBOOK</td>\n",
       "      <td>2018</td>\n",
       "      <td>1</td>\n",
       "      <td>25</td>\n",
       "      <td>Practical Magic</td>\n",
       "      <td>NaN</td>\n",
       "      <td>Alice Hoffman</td>\n",
       "      <td>Fiction</td>\n",
       "      <td>Penguin Group (USA), Inc.</td>\n",
       "      <td>2011</td>\n",
       "    </tr>\n",
       "    <tr>\n",
       "      <th>5805</th>\n",
       "      <td>Digital</td>\n",
       "      <td>OverDrive</td>\n",
       "      <td>AUDIOBOOK</td>\n",
       "      <td>2018</td>\n",
       "      <td>1</td>\n",
       "      <td>1</td>\n",
       "      <td>Red Cat: John March Series, Book 3 (unabridged...</td>\n",
       "      <td>NaN</td>\n",
       "      <td>Peter Spiegelman</td>\n",
       "      <td>Fiction</td>\n",
       "      <td>Phoenix Books, Inc.</td>\n",
       "      <td>2008</td>\n",
       "    </tr>\n",
       "    <tr>\n",
       "      <th>5924</th>\n",
       "      <td>Digital</td>\n",
       "      <td>OverDrive</td>\n",
       "      <td>EBOOK</td>\n",
       "      <td>2018</td>\n",
       "      <td>1</td>\n",
       "      <td>1</td>\n",
       "      <td>Lost in the City</td>\n",
       "      <td>NaN</td>\n",
       "      <td>Edward P. Jones</td>\n",
       "      <td>Fiction</td>\n",
       "      <td>HarperCollins Publishers Inc.</td>\n",
       "      <td>2006</td>\n",
       "    </tr>\n",
       "    <tr>\n",
       "      <th>6824</th>\n",
       "      <td>Digital</td>\n",
       "      <td>OverDrive</td>\n",
       "      <td>EBOOK</td>\n",
       "      <td>2018</td>\n",
       "      <td>1</td>\n",
       "      <td>1</td>\n",
       "      <td>The Circle: How the Power of a Single Wish Can...</td>\n",
       "      <td>NaN</td>\n",
       "      <td>Laura Day</td>\n",
       "      <td>Fiction</td>\n",
       "      <td>Penguin Group (USA), Inc.</td>\n",
       "      <td>2008</td>\n",
       "    </tr>\n",
       "    <tr>\n",
       "      <th>7433</th>\n",
       "      <td>Digital</td>\n",
       "      <td>OverDrive</td>\n",
       "      <td>EBOOK</td>\n",
       "      <td>2018</td>\n",
       "      <td>1</td>\n",
       "      <td>2</td>\n",
       "      <td>Naughty Bedtime Stories</td>\n",
       "      <td>NaN</td>\n",
       "      <td>Joan Elizabeth Lloyd</td>\n",
       "      <td>Fiction</td>\n",
       "      <td>Penguin Group (USA), Inc.</td>\n",
       "      <td>2013</td>\n",
       "    </tr>\n",
       "    <tr>\n",
       "      <th>8512</th>\n",
       "      <td>Digital</td>\n",
       "      <td>OverDrive</td>\n",
       "      <td>EBOOK</td>\n",
       "      <td>2018</td>\n",
       "      <td>1</td>\n",
       "      <td>1</td>\n",
       "      <td>Bent Road</td>\n",
       "      <td>NaN</td>\n",
       "      <td>Lori Roy</td>\n",
       "      <td>Fiction</td>\n",
       "      <td>Penguin Group (USA), Inc.</td>\n",
       "      <td>2011</td>\n",
       "    </tr>\n",
       "  </tbody>\n",
       "</table>\n",
       "</div>"
      ],
      "text/plain": [
       "     usageclass checkouttype materialtype  checkoutyear  checkoutmonth  \\\n",
       "172     Digital    OverDrive        EBOOK          2018              1   \n",
       "185     Digital    OverDrive        EBOOK          2018              1   \n",
       "685     Digital    OverDrive    AUDIOBOOK          2018              1   \n",
       "1767    Digital    OverDrive        EBOOK          2018              1   \n",
       "3183    Digital    OverDrive        EBOOK          2018              1   \n",
       "5805    Digital    OverDrive    AUDIOBOOK          2018              1   \n",
       "5924    Digital    OverDrive        EBOOK          2018              1   \n",
       "6824    Digital    OverDrive        EBOOK          2018              1   \n",
       "7433    Digital    OverDrive        EBOOK          2018              1   \n",
       "8512    Digital    OverDrive        EBOOK          2018              1   \n",
       "\n",
       "      checkouts                                              title  isbn  \\\n",
       "172           3                               Warrior of the Light   NaN   \n",
       "185           4                                       Freaky Deaky   NaN   \n",
       "685           2                   The New Moon's Arms (Unabridged)   NaN   \n",
       "1767          1                                     Changing Faces   NaN   \n",
       "3183         25                                    Practical Magic   NaN   \n",
       "5805          1  Red Cat: John March Series, Book 3 (unabridged...   NaN   \n",
       "5924          1                                   Lost in the City   NaN   \n",
       "6824          1  The Circle: How the Power of a Single Wish Can...   NaN   \n",
       "7433          2                            Naughty Bedtime Stories   NaN   \n",
       "8512          1                                          Bent Road   NaN   \n",
       "\n",
       "                   creator subjects                      publisher  \\\n",
       "172           Paulo Coelho  Fiction  HarperCollins Publishers Inc.   \n",
       "185         Elmore Leonard  Fiction  HarperCollins Publishers Inc.   \n",
       "685         Nalo Hopkinson  Fiction         Blackstone Audio, Inc.   \n",
       "1767  Kimberla Lawson Roby  Fiction  HarperCollins Publishers Inc.   \n",
       "3183         Alice Hoffman  Fiction      Penguin Group (USA), Inc.   \n",
       "5805      Peter Spiegelman  Fiction            Phoenix Books, Inc.   \n",
       "5924       Edward P. Jones  Fiction  HarperCollins Publishers Inc.   \n",
       "6824             Laura Day  Fiction      Penguin Group (USA), Inc.   \n",
       "7433  Joan Elizabeth Lloyd  Fiction      Penguin Group (USA), Inc.   \n",
       "8512              Lori Roy  Fiction      Penguin Group (USA), Inc.   \n",
       "\n",
       "     publicationyear  \n",
       "172             2006  \n",
       "185             2005  \n",
       "685             2012  \n",
       "1767            2010  \n",
       "3183            2011  \n",
       "5805            2008  \n",
       "5924            2006  \n",
       "6824            2008  \n",
       "7433            2013  \n",
       "8512            2011  "
      ]
     },
     "execution_count": 37,
     "metadata": {},
     "output_type": "execute_result"
    }
   ],
   "source": [
    "# Welche Fiction gibt es?\n",
    "checkouts_df[checkouts_df[\"subjects\"] == \"Fiction\"]"
   ]
  },
  {
   "cell_type": "code",
   "execution_count": 38,
   "id": "26eb950c",
   "metadata": {},
   "outputs": [],
   "source": [
    "checkouts_subjects_df = checkouts_df[checkouts_df[\"subjects\"] == \"FICTION\"]"
   ]
  },
  {
   "cell_type": "code",
   "execution_count": 44,
   "id": "5d2a7409",
   "metadata": {},
   "outputs": [
    {
     "data": {
      "text/plain": [
       "Series([], Name: publicationyear, dtype: int64)"
      ]
     },
     "execution_count": 44,
     "metadata": {},
     "output_type": "execute_result"
    }
   ],
   "source": [
    "# Wann wurden die FICTIONs veröffentlicht?\n",
    "checkouts_subjects_df[\"publicationyear\"].value_counts()"
   ]
  },
  {
   "cell_type": "code",
   "execution_count": 45,
   "id": "1b4b6229",
   "metadata": {},
   "outputs": [
    {
     "data": {
      "text/plain": [
       "Series([], Name: publicationyear, dtype: object)"
      ]
     },
     "execution_count": 45,
     "metadata": {},
     "output_type": "execute_result"
    }
   ],
   "source": [
    "checkouts_subjects_df.publicationyear"
   ]
  },
  {
   "cell_type": "code",
   "execution_count": 46,
   "id": "57f3354e",
   "metadata": {},
   "outputs": [
    {
     "data": {
      "text/plain": [
       "Series([], Name: publisher, dtype: object)"
      ]
     },
     "execution_count": 46,
     "metadata": {},
     "output_type": "execute_result"
    }
   ],
   "source": [
    "checkouts_subjects_df.publisher"
   ]
  },
  {
   "cell_type": "code",
   "execution_count": 47,
   "id": "ef84b07d",
   "metadata": {},
   "outputs": [
    {
     "data": {
      "text/plain": [
       "(0, 12)"
      ]
     },
     "execution_count": 47,
     "metadata": {},
     "output_type": "execute_result"
    }
   ],
   "source": [
    "checkouts_subjects_df.shape"
   ]
  },
  {
   "cell_type": "code",
   "execution_count": 48,
   "id": "23c10935",
   "metadata": {},
   "outputs": [
    {
     "data": {
      "text/html": [
       "<div>\n",
       "<style scoped>\n",
       "    .dataframe tbody tr th:only-of-type {\n",
       "        vertical-align: middle;\n",
       "    }\n",
       "\n",
       "    .dataframe tbody tr th {\n",
       "        vertical-align: top;\n",
       "    }\n",
       "\n",
       "    .dataframe thead th {\n",
       "        text-align: right;\n",
       "    }\n",
       "</style>\n",
       "<table border=\"1\" class=\"dataframe\">\n",
       "  <thead>\n",
       "    <tr style=\"text-align: right;\">\n",
       "      <th></th>\n",
       "      <th>usageclass</th>\n",
       "      <th>checkouttype</th>\n",
       "      <th>materialtype</th>\n",
       "      <th>checkoutyear</th>\n",
       "      <th>checkoutmonth</th>\n",
       "      <th>checkouts</th>\n",
       "      <th>title</th>\n",
       "      <th>isbn</th>\n",
       "      <th>creator</th>\n",
       "      <th>subjects</th>\n",
       "      <th>publisher</th>\n",
       "      <th>publicationyear</th>\n",
       "    </tr>\n",
       "  </thead>\n",
       "  <tbody>\n",
       "    <tr>\n",
       "      <th>1</th>\n",
       "      <td>Digital</td>\n",
       "      <td>Hoopla</td>\n",
       "      <td>TELEVISION</td>\n",
       "      <td>2018</td>\n",
       "      <td>1</td>\n",
       "      <td>1</td>\n",
       "      <td>Newspaper Mom / Cucumber in Rio / Donut Raffle</td>\n",
       "      <td>NaN</td>\n",
       "      <td>NaN</td>\n",
       "      <td>Children's</td>\n",
       "      <td>DHX Media</td>\n",
       "      <td>NaN</td>\n",
       "    </tr>\n",
       "    <tr>\n",
       "      <th>1619</th>\n",
       "      <td>Digital</td>\n",
       "      <td>Hoopla</td>\n",
       "      <td>TELEVISION</td>\n",
       "      <td>2018</td>\n",
       "      <td>1</td>\n",
       "      <td>2</td>\n",
       "      <td>Get Sporty-er!</td>\n",
       "      <td>NaN</td>\n",
       "      <td>NaN</td>\n",
       "      <td>Children's</td>\n",
       "      <td>Viacom</td>\n",
       "      <td>NaN</td>\n",
       "    </tr>\n",
       "    <tr>\n",
       "      <th>2663</th>\n",
       "      <td>Digital</td>\n",
       "      <td>Hoopla</td>\n",
       "      <td>TELEVISION</td>\n",
       "      <td>2018</td>\n",
       "      <td>1</td>\n",
       "      <td>1</td>\n",
       "      <td>Take This Job And Squeeze It</td>\n",
       "      <td>NaN</td>\n",
       "      <td>NaN</td>\n",
       "      <td>Children's</td>\n",
       "      <td>Nelvana</td>\n",
       "      <td>NaN</td>\n",
       "    </tr>\n",
       "    <tr>\n",
       "      <th>2778</th>\n",
       "      <td>Digital</td>\n",
       "      <td>Hoopla</td>\n",
       "      <td>TELEVISION</td>\n",
       "      <td>2018</td>\n",
       "      <td>1</td>\n",
       "      <td>1</td>\n",
       "      <td>What Does Blue Need?</td>\n",
       "      <td>NaN</td>\n",
       "      <td>NaN</td>\n",
       "      <td>Children's</td>\n",
       "      <td>Viacom</td>\n",
       "      <td>NaN</td>\n",
       "    </tr>\n",
       "    <tr>\n",
       "      <th>2884</th>\n",
       "      <td>Digital</td>\n",
       "      <td>Hoopla</td>\n",
       "      <td>TELEVISION</td>\n",
       "      <td>2018</td>\n",
       "      <td>1</td>\n",
       "      <td>1</td>\n",
       "      <td>Out of the Past</td>\n",
       "      <td>NaN</td>\n",
       "      <td>NaN</td>\n",
       "      <td>Children's</td>\n",
       "      <td>Nickelodeon</td>\n",
       "      <td>NaN</td>\n",
       "    </tr>\n",
       "    <tr>\n",
       "      <th>3024</th>\n",
       "      <td>Digital</td>\n",
       "      <td>Hoopla</td>\n",
       "      <td>TELEVISION</td>\n",
       "      <td>2018</td>\n",
       "      <td>1</td>\n",
       "      <td>1</td>\n",
       "      <td>The New Pup</td>\n",
       "      <td>NaN</td>\n",
       "      <td>NaN</td>\n",
       "      <td>Children's</td>\n",
       "      <td>Nickelodeon</td>\n",
       "      <td>NaN</td>\n",
       "    </tr>\n",
       "    <tr>\n",
       "      <th>3926</th>\n",
       "      <td>Digital</td>\n",
       "      <td>Hoopla</td>\n",
       "      <td>MUSIC</td>\n",
       "      <td>2018</td>\n",
       "      <td>1</td>\n",
       "      <td>1</td>\n",
       "      <td>Kidz Bop 26</td>\n",
       "      <td>NaN</td>\n",
       "      <td>NaN</td>\n",
       "      <td>Children's</td>\n",
       "      <td>Kidz Bop</td>\n",
       "      <td>NaN</td>\n",
       "    </tr>\n",
       "    <tr>\n",
       "      <th>4353</th>\n",
       "      <td>Digital</td>\n",
       "      <td>Hoopla</td>\n",
       "      <td>TELEVISION</td>\n",
       "      <td>2018</td>\n",
       "      <td>1</td>\n",
       "      <td>1</td>\n",
       "      <td>Picture Perfect/Undie Pressure</td>\n",
       "      <td>NaN</td>\n",
       "      <td>NaN</td>\n",
       "      <td>Children's</td>\n",
       "      <td>Viacom</td>\n",
       "      <td>NaN</td>\n",
       "    </tr>\n",
       "    <tr>\n",
       "      <th>4678</th>\n",
       "      <td>Digital</td>\n",
       "      <td>Hoopla</td>\n",
       "      <td>TELEVISION</td>\n",
       "      <td>2018</td>\n",
       "      <td>1</td>\n",
       "      <td>1</td>\n",
       "      <td>Along Came a Sister/Chore and Peace</td>\n",
       "      <td>NaN</td>\n",
       "      <td>NaN</td>\n",
       "      <td>Children's</td>\n",
       "      <td>Viacom</td>\n",
       "      <td>NaN</td>\n",
       "    </tr>\n",
       "    <tr>\n",
       "      <th>4834</th>\n",
       "      <td>Digital</td>\n",
       "      <td>Hoopla</td>\n",
       "      <td>TELEVISION</td>\n",
       "      <td>2018</td>\n",
       "      <td>1</td>\n",
       "      <td>2</td>\n",
       "      <td>Summer</td>\n",
       "      <td>NaN</td>\n",
       "      <td>NaN</td>\n",
       "      <td>Children's</td>\n",
       "      <td>Nickelodeon</td>\n",
       "      <td>NaN</td>\n",
       "    </tr>\n",
       "    <tr>\n",
       "      <th>4957</th>\n",
       "      <td>Digital</td>\n",
       "      <td>Hoopla</td>\n",
       "      <td>TELEVISION</td>\n",
       "      <td>2018</td>\n",
       "      <td>1</td>\n",
       "      <td>1</td>\n",
       "      <td>Out of the Past</td>\n",
       "      <td>NaN</td>\n",
       "      <td>NaN</td>\n",
       "      <td>Children's</td>\n",
       "      <td>Viacom</td>\n",
       "      <td>NaN</td>\n",
       "    </tr>\n",
       "    <tr>\n",
       "      <th>6533</th>\n",
       "      <td>Digital</td>\n",
       "      <td>Hoopla</td>\n",
       "      <td>MOVIE</td>\n",
       "      <td>2018</td>\n",
       "      <td>1</td>\n",
       "      <td>4</td>\n",
       "      <td>Elmo and Zoe's Hat Contest</td>\n",
       "      <td>NaN</td>\n",
       "      <td>NaN</td>\n",
       "      <td>Children's</td>\n",
       "      <td>Sesame Workshop</td>\n",
       "      <td>NaN</td>\n",
       "    </tr>\n",
       "    <tr>\n",
       "      <th>7357</th>\n",
       "      <td>Digital</td>\n",
       "      <td>Hoopla</td>\n",
       "      <td>MOVIE</td>\n",
       "      <td>2018</td>\n",
       "      <td>1</td>\n",
       "      <td>2</td>\n",
       "      <td>Raven Tales: Raven and the Coyote</td>\n",
       "      <td>NaN</td>\n",
       "      <td>NaN</td>\n",
       "      <td>Children's</td>\n",
       "      <td>Dreamscape Media, LLC</td>\n",
       "      <td>NaN</td>\n",
       "    </tr>\n",
       "    <tr>\n",
       "      <th>7803</th>\n",
       "      <td>Digital</td>\n",
       "      <td>Hoopla</td>\n",
       "      <td>MUSIC</td>\n",
       "      <td>2018</td>\n",
       "      <td>1</td>\n",
       "      <td>1</td>\n",
       "      <td>Pokemon 2ba Master - Spanish Version Of The #1...</td>\n",
       "      <td>NaN</td>\n",
       "      <td>NaN</td>\n",
       "      <td>Children's</td>\n",
       "      <td>eOne Music</td>\n",
       "      <td>NaN</td>\n",
       "    </tr>\n",
       "    <tr>\n",
       "      <th>7882</th>\n",
       "      <td>Digital</td>\n",
       "      <td>Hoopla</td>\n",
       "      <td>TELEVISION</td>\n",
       "      <td>2018</td>\n",
       "      <td>1</td>\n",
       "      <td>1</td>\n",
       "      <td>Fernfern and the Secret of Moose Mountain / Th...</td>\n",
       "      <td>NaN</td>\n",
       "      <td>NaN</td>\n",
       "      <td>Children's</td>\n",
       "      <td>PBS</td>\n",
       "      <td>NaN</td>\n",
       "    </tr>\n",
       "    <tr>\n",
       "      <th>8044</th>\n",
       "      <td>Digital</td>\n",
       "      <td>Hoopla</td>\n",
       "      <td>TELEVISION</td>\n",
       "      <td>2018</td>\n",
       "      <td>1</td>\n",
       "      <td>2</td>\n",
       "      <td>Knighty Knight Dragons/Inside and Seek</td>\n",
       "      <td>NaN</td>\n",
       "      <td>NaN</td>\n",
       "      <td>Children's</td>\n",
       "      <td>Viacom</td>\n",
       "      <td>NaN</td>\n",
       "    </tr>\n",
       "    <tr>\n",
       "      <th>9579</th>\n",
       "      <td>Digital</td>\n",
       "      <td>Hoopla</td>\n",
       "      <td>MOVIE</td>\n",
       "      <td>2018</td>\n",
       "      <td>1</td>\n",
       "      <td>1</td>\n",
       "      <td>And Then It's Spring</td>\n",
       "      <td>NaN</td>\n",
       "      <td>NaN</td>\n",
       "      <td>Children's</td>\n",
       "      <td>Weston Woods</td>\n",
       "      <td>NaN</td>\n",
       "    </tr>\n",
       "    <tr>\n",
       "      <th>9966</th>\n",
       "      <td>Digital</td>\n",
       "      <td>Hoopla</td>\n",
       "      <td>TELEVISION</td>\n",
       "      <td>2018</td>\n",
       "      <td>1</td>\n",
       "      <td>2</td>\n",
       "      <td>The World of Tomorrow / Is There a Doctor in t...</td>\n",
       "      <td>NaN</td>\n",
       "      <td>NaN</td>\n",
       "      <td>Children's</td>\n",
       "      <td>PBS</td>\n",
       "      <td>NaN</td>\n",
       "    </tr>\n",
       "  </tbody>\n",
       "</table>\n",
       "</div>"
      ],
      "text/plain": [
       "     usageclass checkouttype materialtype  checkoutyear  checkoutmonth  \\\n",
       "1       Digital       Hoopla   TELEVISION          2018              1   \n",
       "1619    Digital       Hoopla   TELEVISION          2018              1   \n",
       "2663    Digital       Hoopla   TELEVISION          2018              1   \n",
       "2778    Digital       Hoopla   TELEVISION          2018              1   \n",
       "2884    Digital       Hoopla   TELEVISION          2018              1   \n",
       "3024    Digital       Hoopla   TELEVISION          2018              1   \n",
       "3926    Digital       Hoopla        MUSIC          2018              1   \n",
       "4353    Digital       Hoopla   TELEVISION          2018              1   \n",
       "4678    Digital       Hoopla   TELEVISION          2018              1   \n",
       "4834    Digital       Hoopla   TELEVISION          2018              1   \n",
       "4957    Digital       Hoopla   TELEVISION          2018              1   \n",
       "6533    Digital       Hoopla        MOVIE          2018              1   \n",
       "7357    Digital       Hoopla        MOVIE          2018              1   \n",
       "7803    Digital       Hoopla        MUSIC          2018              1   \n",
       "7882    Digital       Hoopla   TELEVISION          2018              1   \n",
       "8044    Digital       Hoopla   TELEVISION          2018              1   \n",
       "9579    Digital       Hoopla        MOVIE          2018              1   \n",
       "9966    Digital       Hoopla   TELEVISION          2018              1   \n",
       "\n",
       "      checkouts                                              title  isbn  \\\n",
       "1             1     Newspaper Mom / Cucumber in Rio / Donut Raffle   NaN   \n",
       "1619          2                                     Get Sporty-er!   NaN   \n",
       "2663          1                       Take This Job And Squeeze It   NaN   \n",
       "2778          1                               What Does Blue Need?   NaN   \n",
       "2884          1                                    Out of the Past   NaN   \n",
       "3024          1                                        The New Pup   NaN   \n",
       "3926          1                                        Kidz Bop 26   NaN   \n",
       "4353          1                     Picture Perfect/Undie Pressure   NaN   \n",
       "4678          1                Along Came a Sister/Chore and Peace   NaN   \n",
       "4834          2                                             Summer   NaN   \n",
       "4957          1                                    Out of the Past   NaN   \n",
       "6533          4                         Elmo and Zoe's Hat Contest   NaN   \n",
       "7357          2                  Raven Tales: Raven and the Coyote   NaN   \n",
       "7803          1  Pokemon 2ba Master - Spanish Version Of The #1...   NaN   \n",
       "7882          1  Fernfern and the Secret of Moose Mountain / Th...   NaN   \n",
       "8044          2             Knighty Knight Dragons/Inside and Seek   NaN   \n",
       "9579          1                               And Then It's Spring   NaN   \n",
       "9966          2  The World of Tomorrow / Is There a Doctor in t...   NaN   \n",
       "\n",
       "     creator    subjects              publisher publicationyear  \n",
       "1        NaN  Children's              DHX Media             NaN  \n",
       "1619     NaN  Children's                 Viacom             NaN  \n",
       "2663     NaN  Children's                Nelvana             NaN  \n",
       "2778     NaN  Children's                 Viacom             NaN  \n",
       "2884     NaN  Children's            Nickelodeon             NaN  \n",
       "3024     NaN  Children's            Nickelodeon             NaN  \n",
       "3926     NaN  Children's               Kidz Bop             NaN  \n",
       "4353     NaN  Children's                 Viacom             NaN  \n",
       "4678     NaN  Children's                 Viacom             NaN  \n",
       "4834     NaN  Children's            Nickelodeon             NaN  \n",
       "4957     NaN  Children's                 Viacom             NaN  \n",
       "6533     NaN  Children's        Sesame Workshop             NaN  \n",
       "7357     NaN  Children's  Dreamscape Media, LLC             NaN  \n",
       "7803     NaN  Children's             eOne Music             NaN  \n",
       "7882     NaN  Children's                    PBS             NaN  \n",
       "8044     NaN  Children's                 Viacom             NaN  \n",
       "9579     NaN  Children's           Weston Woods             NaN  \n",
       "9966     NaN  Children's                    PBS             NaN  "
      ]
     },
     "execution_count": 48,
     "metadata": {},
     "output_type": "execute_result"
    }
   ],
   "source": [
    "checkouts_df[checkouts_df[\"subjects\"] == \"Children's\"]"
   ]
  },
  {
   "cell_type": "code",
   "execution_count": 49,
   "id": "4ce4030c",
   "metadata": {},
   "outputs": [
    {
     "data": {
      "text/plain": [
       "(0, 12)"
      ]
     },
     "execution_count": 49,
     "metadata": {},
     "output_type": "execute_result"
    }
   ],
   "source": [
    "checkouts_subjects_df.shape"
   ]
  },
  {
   "cell_type": "code",
   "execution_count": 50,
   "id": "a86db842",
   "metadata": {},
   "outputs": [],
   "source": [
    "checkouts_subjects_df = checkouts_df[checkouts_df[\"subjects\"] == \"Children's\"]"
   ]
  },
  {
   "cell_type": "code",
   "execution_count": 51,
   "id": "28d74bc6",
   "metadata": {},
   "outputs": [
    {
     "data": {
      "text/plain": [
       "Series([], Name: publicationyear, dtype: int64)"
      ]
     },
     "execution_count": 51,
     "metadata": {},
     "output_type": "execute_result"
    }
   ],
   "source": [
    "# Wann wurden die childrenś veröffentlicht?\n",
    "checkouts_subjects_df[\"publicationyear\"].value_counts()"
   ]
  },
  {
   "cell_type": "code",
   "execution_count": 52,
   "id": "0438d0a4",
   "metadata": {},
   "outputs": [
    {
     "data": {
      "text/plain": [
       "(18, 12)"
      ]
     },
     "execution_count": 52,
     "metadata": {},
     "output_type": "execute_result"
    }
   ],
   "source": [
    "checkouts_subjects_df.shape"
   ]
  },
  {
   "cell_type": "code",
   "execution_count": 53,
   "id": "d5fcfd88",
   "metadata": {},
   "outputs": [
    {
     "data": {
      "text/plain": [
       "TELEVISION    13\n",
       "MOVIE          3\n",
       "MUSIC          2\n",
       "Name: materialtype, dtype: int64"
      ]
     },
     "execution_count": 53,
     "metadata": {},
     "output_type": "execute_result"
    }
   ],
   "source": [
    "# Um was für Medien handelt es sich bei childrenś?\n",
    "checkouts_subjects_df[\"materialtype\"].value_counts()"
   ]
  },
  {
   "cell_type": "code",
   "execution_count": 54,
   "id": "24366cec",
   "metadata": {},
   "outputs": [
    {
     "data": {
      "text/plain": [
       "<AxesSubplot:>"
      ]
     },
     "execution_count": 54,
     "metadata": {},
     "output_type": "execute_result"
    },
    {
     "data": {
      "image/png": "[encoded data removed]",
      "text/plain": [
       "<Figure size 640x480 with 1 Axes>"
      ]
     },
     "metadata": {},
     "output_type": "display_data"
    }
   ],
   "source": [
    "checkouts_subjects_df[\"materialtype\"].value_counts().plot.bar()"
   ]
  },
  {
   "cell_type": "code",
   "execution_count": 56,
   "id": "5f76d465",
   "metadata": {},
   "outputs": [
    {
     "data": {
      "text/plain": [
       "<AxesSubplot:>"
      ]
     },
     "execution_count": 56,
     "metadata": {},
     "output_type": "execute_result"
    },
    {
     "data": {
      "image/png": "[encoded data removed]",
      "text/plain": [
       "<Figure size 640x480 with 1 Axes>"
      ]
     },
     "metadata": {},
     "output_type": "display_data"
    }
   ],
   "source": [
    "checkouts_subjects_df[\"materialtype\"].value_counts().plot.bar(color=\"green\")"
   ]
  },
  {
   "cell_type": "code",
   "execution_count": null,
   "id": "ebff4c7a",
   "metadata": {},
   "outputs": [],
   "source": []
  }
 ],
 "metadata": {
  "kernelspec": {
   "display_name": "Python 3 (ipykernel)",
   "language": "python",
   "name": "python3"
  },
  "language_info": {
   "codemirror_mode": {
    "name": "ipython",
    "version": 3
   },
   "file_extension": ".py",
   "mimetype": "text/x-python",
   "name": "python",
   "nbconvert_exporter": "python",
   "pygments_lexer": "ipython3",
   "version": "3.9.13"
  }
 },
 "nbformat": 4,
 "nbformat_minor": 5
}
