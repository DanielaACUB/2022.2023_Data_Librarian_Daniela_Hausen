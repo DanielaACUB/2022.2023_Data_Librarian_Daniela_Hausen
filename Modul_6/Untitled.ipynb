{
 "cells": [
  {
   "cell_type": "code",
   "execution_count": 1,
   "id": "df108a3f",
   "metadata": {},
   "outputs": [
    {
     "ename": "NameError",
     "evalue": "name 'df_cleanquest_2023' is not defined",
     "output_type": "error",
     "traceback": [
      "\u001b[0;31m---------------------------------------------------------------------------\u001b[0m",
      "\u001b[0;31mNameError\u001b[0m                                 Traceback (most recent call last)",
      "\u001b[0;32m/tmp/ipykernel_6089/1493314147.py\u001b[0m in \u001b[0;36m<module>\u001b[0;34m\u001b[0m\n\u001b[1;32m      1\u001b[0m \u001b[0;31m# Freitextantworten und Häufigkeit zur Frage anzeigen ->Spalte A004_13a\u001b[0m\u001b[0;34m\u001b[0m\u001b[0;34m\u001b[0m\u001b[0m\n\u001b[0;32m----> 2\u001b[0;31m \u001b[0mdf_B013\u001b[0m \u001b[0;34m=\u001b[0m \u001b[0mdf_cleanquest_2023\u001b[0m\u001b[0;34m[\u001b[0m\u001b[0;34m'B013_01'\u001b[0m\u001b[0;34m]\u001b[0m\u001b[0;34m.\u001b[0m\u001b[0mvalue_counts\u001b[0m\u001b[0;34m(\u001b[0m\u001b[0;34m)\u001b[0m\u001b[0;34m.\u001b[0m\u001b[0mto_frame\u001b[0m\u001b[0;34m(\u001b[0m\u001b[0;34m)\u001b[0m\u001b[0;34m\u001b[0m\u001b[0;34m\u001b[0m\u001b[0m\n\u001b[0m\u001b[1;32m      3\u001b[0m \u001b[0;34m\u001b[0m\u001b[0m\n\u001b[1;32m      4\u001b[0m \u001b[0mdf_B013\u001b[0m\u001b[0;34m.\u001b[0m\u001b[0mreset_index\u001b[0m\u001b[0;34m(\u001b[0m\u001b[0minplace\u001b[0m\u001b[0;34m=\u001b[0m\u001b[0;32mTrue\u001b[0m\u001b[0;34m)\u001b[0m\u001b[0;34m\u001b[0m\u001b[0;34m\u001b[0m\u001b[0m\n\u001b[1;32m      5\u001b[0m \u001b[0;34m\u001b[0m\u001b[0m\n",
      "\u001b[0;31mNameError\u001b[0m: name 'df_cleanquest_2023' is not defined"
     ]
    }
   ],
   "source": [
    "# Freitextantworten und Häufigkeit zur Frage anzeigen ->Spalte A004_13a\n",
    "df_B013 = df_cleanquest_2023['B013_01'].value_counts().to_frame()\n",
    "\n",
    "df_B013.reset_index(inplace=True)\n",
    "\n",
    "df_B013.rename(columns={'index': 'answer', 'B013_01': 'quantity'}, inplace=True)\n",
    "\n",
    "df_B013"
   ]
  },
  {
   "cell_type": "code",
   "execution_count": 2,
   "id": "f6c33c22",
   "metadata": {},
   "outputs": [
    {
     "ename": "NameError",
     "evalue": "name 'df_B013' is not defined",
     "output_type": "error",
     "traceback": [
      "\u001b[0;31m---------------------------------------------------------------------------\u001b[0m",
      "\u001b[0;31mNameError\u001b[0m                                 Traceback (most recent call last)",
      "\u001b[0;32m/tmp/ipykernel_6089/1549688946.py\u001b[0m in \u001b[0;36m<module>\u001b[0;34m\u001b[0m\n\u001b[1;32m      1\u001b[0m \u001b[0;31m# Werte mit gleicher Bedeutung zusammenführen\u001b[0m\u001b[0;34m\u001b[0m\u001b[0;34m\u001b[0m\u001b[0m\n\u001b[0;32m----> 2\u001b[0;31m df_B013['answer'] = df_B013['answer'].apply(lambda x: 'Chemotion' if 'chemotion' in x.lower() else \n\u001b[0m\u001b[1;32m      3\u001b[0m                                                                ('eLAB FTW' if 'ftw' in x.lower() else\n\u001b[1;32m      4\u001b[0m                                                                 ('Word' if 'word' in x.lower() else\n\u001b[1;32m      5\u001b[0m                                                                  ('MBook' if 'mbook' in x.lower() else x))))\n",
      "\u001b[0;31mNameError\u001b[0m: name 'df_B013' is not defined"
     ]
    }
   ],
   "source": [
    "# Werte mit gleicher Bedeutung zusammenführen\n",
    "df_B013['answer'] = df_B013['answer'].apply(lambda x: 'Chemotion' if 'chemotion' in x.lower() else \n",
    "                                                               ('eLAB FTW' if 'ftw' in x.lower() else\n",
    "                                                                ('Word' if 'word' in x.lower() else\n",
    "                                                                 ('MBook' if 'mbook' in x.lower() else x))))\n",
    "\n",
    "# Gruppiere nach der zusammengeführten Spalte \"answer\" und summiere die Quantity\n",
    "result = df_B013.groupby('answer')['answer'].count().reset_index(name='quantity')\n",
    "\n",
    "# Sortiere nach der Spalte 'quantity' in absteigender Reihenfolge (häufigste oben)\n",
    "sorted_df = result.sort_values(by='quantity', ascending=False)\n",
    "\n",
    "# Zeige das Ergebnis\n",
    "sorted_df.value_counts()"
   ]
  },
  {
   "cell_type": "code",
   "execution_count": null,
   "id": "e4990266",
   "metadata": {},
   "outputs": [],
   "source": []
  }
 ],
 "metadata": {
  "kernelspec": {
   "display_name": "Python 3 (ipykernel)",
   "language": "python",
   "name": "python3"
  },
  "language_info": {
   "codemirror_mode": {
    "name": "ipython",
    "version": 3
   },
   "file_extension": ".py",
   "mimetype": "text/x-python",
   "name": "python",
   "nbconvert_exporter": "python",
   "pygments_lexer": "ipython3",
   "version": "3.9.13"
  }
 },
 "nbformat": 4,
 "nbformat_minor": 5
}
