{
 "cells": [
  {
   "cell_type": "code",
   "execution_count": null,
   "id": "b7c16775",
   "metadata": {},
   "outputs": [],
   "source": [
    "# Liste der gewünschten Spaltennamen\n",
    "selected_columns = ['supplemental material (text publication)',\n",
    "                    'data repository (text publication)',\n",
    "                    'data publication (stand alone)',\n",
    "                    'No data published']\n",
    "\n",
    "# Erstelle ein neues DataFrame mit den Yes-Counts für jede Position und Spalte\n",
    "yes_counts_by_position = pd.DataFrame(index=positions, columns=selected_columns)\n",
    "for position in positions:\n",
    "    df_position = df_publish_position[df_publish_position['Position'] == position]\n",
    "    yes_counts = df_position[selected_columns].apply(lambda col: (col == 'Yes').sum())\n",
    "    yes_counts_by_position.loc[position] = yes_counts\n",
    "\n",
    "# Konvertiere Yes-Counts in numerische Werte\n",
    "yes_counts_by_position = yes_counts_by_position.astype(int)\n",
    "\n",
    "# Erstelle das Balkendiagramm\n",
    "sns.set(style=\"whitegrid\")\n",
    "plt.figure(figsize=(10, 6))\n",
    "sns.barplot(data=yes_counts_by_position, palette=\"viridis\")\n",
    "plt.xticks(rotation=45, ha=\"right\")\n",
    "plt.title(\"Yes Counts by Position\")\n",
    "plt.ylabel(\"Count\")\n",
    "plt.show()"
   ]
  }
 ],
 "metadata": {
  "kernelspec": {
   "display_name": "Python 3 (ipykernel)",
   "language": "python",
   "name": "python3"
  },
  "language_info": {
   "codemirror_mode": {
    "name": "ipython",
    "version": 3
   },
   "file_extension": ".py",
   "mimetype": "text/x-python",
   "name": "python",
   "nbconvert_exporter": "python",
   "pygments_lexer": "ipython3",
   "version": "3.9.13"
  }
 },
 "nbformat": 4,
 "nbformat_minor": 5
}
