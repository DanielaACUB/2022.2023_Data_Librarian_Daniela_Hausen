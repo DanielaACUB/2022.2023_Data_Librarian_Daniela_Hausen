{
 "cells": [
  {
   "cell_type": "code",
   "execution_count": 9,
   "id": "df108a3f",
   "metadata": {},
   "outputs": [],
   "source": [
    "import pandas as pd\n",
    "import numpy as np\n",
    "import matplotlib as mpl\n",
    "import matplotlib.pyplot as plt\n",
    "import seaborn as sns\n",
    "\n",
    "# Datei mit UTF-16-Codierung einlesen\n",
    "data = pd.read_csv('data_nfdi4chem2023_survey.csv', encoding='utf-16', delimiter='\\t')\n",
    "values = pd.read_csv('values_nfdi4chem2023_survey.csv', encoding='utf-16', delimiter='\\t')\n",
    "variables = pd.read_csv('variables_nfdi4chem2023_survey.csv', encoding='utf-16', delimiter='\\t')"
   ]
  },
  {
   "cell_type": "code",
   "execution_count": 10,
   "id": "f6c33c22",
   "metadata": {},
   "outputs": [],
   "source": [
    "df_data = pd.DataFrame (data)\n",
    "df_values = pd.DataFrame (values)\n",
    "df_variables = pd.DataFrame (variables)"
   ]
  },
  {
   "cell_type": "code",
   "execution_count": 11,
   "id": "e4990266",
   "metadata": {},
   "outputs": [],
   "source": [
    "# Daten weiter bereinigen. Spalten und Zeilen mit NaN entfernen.\n",
    "# DataFrame mit ausgewählten Spalten erstellen\n",
    "selected_columns = ['CASE', 'A001', 'A001s', 'A002', 'A002_05', 'A003', 'A003_07', 'A004', 'A004_01', 'A004_02', 'A004_03', 'A004_04', 'A004_05', 'A004_06', 'A004_07', 'A004_08', 'A004_09', 'A004_10', 'A004_11', 'A004_12', 'A004_13', 'A004_13a', 'B001', 'B001_01', 'B001_02', 'B001_03', 'B001_04', 'B001_05', 'B001_06', 'B001_07', 'B001_08', 'B001_08a', 'B002', 'B003_01', 'B004', 'B005_01', 'B006', 'B006_01', 'B006_02', 'B006_03', 'B006_04', 'B006_04a', 'B006_05', 'B006_06', 'B007', 'B025_01', 'B008_CN', 'B008x01', 'B008x02', 'B008x03', 'B008x04', 'B008x05', 'B008x06', 'B008x07', 'B008x08', 'B008x09', 'B027_01', 'B009', 'B026_01', 'B010', 'B011', 'B012', 'B013_01', 'B014', 'B014_01', 'B014_02', 'B014_03', 'B014_04', 'B014_05', 'B014_06', 'B014_07', 'B014_08', 'B014_08a', 'B015', 'B015_01', 'B015_02', 'B015_03', 'B015_04', 'B015_05', 'B015_06', 'B015_08', 'B015_08a', 'B015_07', 'B016', 'B016_01', 'B016_02', 'B016_03', 'B016_04', 'B016_05', 'B016_06', 'B016_07', 'B016_09', 'B016_09a', 'B016_08', 'B017', 'B017_01', 'B017_02', 'B017_03', 'B017_04', 'B017_05', 'B017_05a', 'B018', 'B018_01', 'B019', 'B019_01', 'B019_02', 'B019_03', 'B019_04', 'B019_05', 'B019_05a', 'B019_06', 'B019_07', 'B019_08', 'B019_09', 'B019_10', 'B019_10a', 'B020_01', 'B021', 'B021_01', 'B022_01', 'B023_01', 'B024', 'B024_01', 'B024_02', 'B024_03', 'B024_04', 'B024_05', 'B024_06', 'B024_07', 'B024_08', 'B024_08a', 'C001', 'C002', 'C003', 'C003_01', 'C004', 'C005_01', 'C006', 'C008', 'C008_03', 'C009_01']\n",
    "df_questions_2023 = df_data[selected_columns]"
   ]
  },
  {
   "cell_type": "code",
   "execution_count": 12,
   "id": "f7e3a03e",
   "metadata": {},
   "outputs": [],
   "source": [
    "# Filtere die Zeilen, bei denen nach der Spalte A002 keine Einträge mehr folgen (alle Werte sind NaN)\n",
    "result_rows = df_questions_2023[df_questions_2023.iloc[:, df_questions_2023.columns.get_loc('A002')+1:].isna().all(axis=1)]\n",
    "\n",
    "# Entferne die gefundenen leeren Zeilen aus dem DataFrame \n",
    "# Erzeuge einen bereinigten DataFrame\n",
    "df_cleanquest_2023 = df_questions_2023.drop(result_rows.index)"
   ]
  },
  {
   "cell_type": "code",
   "execution_count": 13,
   "id": "a87608a4",
   "metadata": {},
   "outputs": [],
   "source": [
    "# Definiere die NFDI4Chem-Farben\n",
    "petrol_rgb = (0/255, 156/255, 188/255)\n",
    "orange_rgb = (238/255, 116/255, 0/255)\n",
    "yellow_rgb = (241/255, 222/255, 30/255)"
   ]
  },
  {
   "cell_type": "code",
   "execution_count": null,
   "id": "3cab69da",
   "metadata": {},
   "outputs": [],
   "source": []
  }
 ],
 "metadata": {
  "kernelspec": {
   "display_name": "Python 3 (ipykernel)",
   "language": "python",
   "name": "python3"
  },
  "language_info": {
   "codemirror_mode": {
    "name": "ipython",
    "version": 3
   },
   "file_extension": ".py",
   "mimetype": "text/x-python",
   "name": "python",
   "nbconvert_exporter": "python",
   "pygments_lexer": "ipython3",
   "version": "3.9.13"
  }
 },
 "nbformat": 4,
 "nbformat_minor": 5
}
