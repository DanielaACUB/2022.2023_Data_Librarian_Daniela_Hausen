{
 "cells": [
  {
   "cell_type": "code",
   "execution_count": null,
   "id": "c9c1f152",
   "metadata": {},
   "outputs": [],
   "source": [
    "df_B007['B007'].replace({1: 'Yes', 2: 'No', 3:'I am not aware of any rules.', -9: 'No answer'}, inplace=True)\n",
    "\n",
    "df_B007_counted = df_B007['B007'].value_counts().to_frame()\n",
    "\n",
    "df_B007_counted.reset_index(inplace=True)\n",
    "\n",
    "df_B007_counted.rename(columns={'index': 'group rules', 'B004': 'quantity'}, inplace=True)\n",
    "\n",
    "df_B007_counted"
   ]
  }
 ],
 "metadata": {
  "kernelspec": {
   "display_name": "Python 3 (ipykernel)",
   "language": "python",
   "name": "python3"
  },
  "language_info": {
   "codemirror_mode": {
    "name": "ipython",
    "version": 3
   },
   "file_extension": ".py",
   "mimetype": "text/x-python",
   "name": "python",
   "nbconvert_exporter": "python",
   "pygments_lexer": "ipython3",
   "version": "3.9.13"
  }
 },
 "nbformat": 4,
 "nbformat_minor": 5
}
