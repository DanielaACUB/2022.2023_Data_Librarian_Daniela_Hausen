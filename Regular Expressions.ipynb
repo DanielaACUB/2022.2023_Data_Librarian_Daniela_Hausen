{
 "cells": [
  {
   "cell_type": "code",
   "execution_count": 1,
   "id": "75cebcf3",
   "metadata": {},
   "outputs": [],
   "source": [
    "import re"
   ]
  },
  {
   "cell_type": "code",
   "execution_count": 13,
   "id": "ce67c76d",
   "metadata": {},
   "outputs": [],
   "source": [
    "my_sentence = \"There are some grey trees outside. 6667839. 234234234 sdfsdfsdf\""
   ]
  },
  {
   "cell_type": "code",
   "execution_count": 14,
   "id": "af896798",
   "metadata": {},
   "outputs": [],
   "source": [
    "hits = re.search(\"are\", my_sentence)"
   ]
  },
  {
   "cell_type": "code",
   "execution_count": 15,
   "id": "e85d4202",
   "metadata": {},
   "outputs": [
    {
     "data": {
      "text/plain": [
       "'are'"
      ]
     },
     "execution_count": 15,
     "metadata": {},
     "output_type": "execute_result"
    }
   ],
   "source": [
    "hits[0]"
   ]
  },
  {
   "cell_type": "code",
   "execution_count": 16,
   "id": "10695bb8",
   "metadata": {},
   "outputs": [],
   "source": [
    "hits = re.findall(\"\\d+\", my_sentence)"
   ]
  },
  {
   "cell_type": "code",
   "execution_count": 22,
   "id": "ee97f184",
   "metadata": {},
   "outputs": [
    {
     "data": {
      "text/plain": [
       "'234234234'"
      ]
     },
     "execution_count": 22,
     "metadata": {},
     "output_type": "execute_result"
    }
   ],
   "source": [
    "hits[1]"
   ]
  },
  {
   "cell_type": "code",
   "execution_count": null,
   "id": "9418c431",
   "metadata": {},
   "outputs": [],
   "source": []
  }
 ],
 "metadata": {
  "kernelspec": {
   "display_name": "Python 3 (ipykernel)",
   "language": "python",
   "name": "python3"
  },
  "language_info": {
   "codemirror_mode": {
    "name": "ipython",
    "version": 3
   },
   "file_extension": ".py",
   "mimetype": "text/x-python",
   "name": "python",
   "nbconvert_exporter": "python",
   "pygments_lexer": "ipython3",
   "version": "3.9.13"
  }
 },
 "nbformat": 4,
 "nbformat_minor": 5
}
